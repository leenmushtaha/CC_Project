{
  "nbformat": 4,
  "nbformat_minor": 0,
  "metadata": {
    "colab": {
      "provenance": []
    },
    "kernelspec": {
      "name": "python3",
      "display_name": "Python 3"
    },
    "language_info": {
      "name": "python"
    }
  },
  "cells": [
    {
      "cell_type": "code",
      "source": [
        "import os\n",
        "os.listdir()"
      ],
      "metadata": {
        "colab": {
          "base_uri": "https://localhost:8080/"
        },
        "id": "Iw7brscfywJb",
        "outputId": "1c813068-9392-467d-d73c-88761992bf12"
      },
      "execution_count": 1,
      "outputs": [
        {
          "output_type": "execute_result",
          "data": {
            "text/plain": [
              "['.config',\n",
              " 'synthetic_chat_logs_with_sentiment.json',\n",
              " 'cloud-computing-project-cb32f-firebase-adminsdk-fbsvc-4e9abde912.json',\n",
              " 'sample_data']"
            ]
          },
          "metadata": {},
          "execution_count": 1
        }
      ]
    },
    {
      "cell_type": "code",
      "source": [
        "from pyspark.sql import SparkSession\n",
        "from pyspark.sql.functions import length, col, collect_set"
      ],
      "metadata": {
        "id": "H89avRp1qZeX"
      },
      "execution_count": 2,
      "outputs": []
    },
    {
      "cell_type": "code",
      "source": [
        "spark = SparkSession.builder.appName(\"ChatLogProcessing\").getOrCreate()"
      ],
      "metadata": {
        "id": "O-TfP0XS5zOy"
      },
      "execution_count": 3,
      "outputs": []
    },
    {
      "cell_type": "code",
      "source": [
        "df = spark.read.option(\"multiline\", \"true\").json(\"synthetic_chat_logs_with_sentiment.json\")\n",
        "df.show(5, truncate=False)"
      ],
      "metadata": {
        "colab": {
          "base_uri": "https://localhost:8080/"
        },
        "id": "8SCD1O3WwF2J",
        "outputId": "f6c0ed26-e5eb-4f55-a752-18878fc5dbaf"
      },
      "execution_count": 4,
      "outputs": [
        {
          "output_type": "stream",
          "name": "stdout",
          "text": [
            "+--------------+---------+------------------------------------------------+\n",
            "|intent        |sentiment|text                                            |\n",
            "+--------------+---------+------------------------------------------------+\n",
            "|return_request|negative |Can you help me return this product?            |\n",
            "|product_issue |negative |The charger isn’t functioning properly.         |\n",
            "|return_request|negative |This isn’t what I expected, I want to return it.|\n",
            "|return_request|negative |How do I send this back?                        |\n",
            "|thank_you     |positive |I appreciate your help.                         |\n",
            "+--------------+---------+------------------------------------------------+\n",
            "only showing top 5 rows\n",
            "\n"
          ]
        }
      ]
    },
    {
      "cell_type": "code",
      "source": [
        "df = df.dropna()"
      ],
      "metadata": {
        "id": "uZIZq1eKz-dF"
      },
      "execution_count": 5,
      "outputs": []
    },
    {
      "cell_type": "code",
      "source": [
        "df = df.filter(length(col(\"text\")) > 5)"
      ],
      "metadata": {
        "id": "surpQlCg5oZB"
      },
      "execution_count": 6,
      "outputs": []
    },
    {
      "cell_type": "code",
      "source": [
        "from pyspark.sql.functions import regexp_replace\n",
        "\n",
        "df = df.withColumn(\"clean_text\", regexp_replace(\"text\", \"[^a-zA-Z0-9\\s]\", \"\"))"
      ],
      "metadata": {
        "id": "tsx_-2rz6W6K"
      },
      "execution_count": 7,
      "outputs": []
    },
    {
      "cell_type": "code",
      "source": [
        "from pyspark.sql.functions import lower\n",
        "\n",
        "df = df.withColumn(\"clean_text\", lower(col(\"clean_text\")))"
      ],
      "metadata": {
        "id": "2TsS-aq_-8X9"
      },
      "execution_count": 8,
      "outputs": []
    },
    {
      "cell_type": "code",
      "source": [
        "df.show(5, truncate=False)"
      ],
      "metadata": {
        "colab": {
          "base_uri": "https://localhost:8080/"
        },
        "id": "8rGmB2i-_Gho",
        "outputId": "aec9b3e9-e281-482d-83ae-b900d4d3b651"
      },
      "execution_count": 9,
      "outputs": [
        {
          "output_type": "stream",
          "name": "stdout",
          "text": [
            "+--------------+---------+------------------------------------------------+---------------------------------------------+\n",
            "|intent        |sentiment|text                                            |clean_text                                   |\n",
            "+--------------+---------+------------------------------------------------+---------------------------------------------+\n",
            "|return_request|negative |Can you help me return this product?            |can you help me return this product          |\n",
            "|product_issue |negative |The charger isn’t functioning properly.         |the charger isnt functioning properly        |\n",
            "|return_request|negative |This isn’t what I expected, I want to return it.|this isnt what i expected i want to return it|\n",
            "|return_request|negative |How do I send this back?                        |how do i send this back                      |\n",
            "|thank_you     |positive |I appreciate your help.                         |i appreciate your help                       |\n",
            "+--------------+---------+------------------------------------------------+---------------------------------------------+\n",
            "only showing top 5 rows\n",
            "\n"
          ]
        }
      ]
    },
    {
      "cell_type": "code",
      "source": [
        "from pyspark.sql.functions import size, split\n",
        "\n",
        "df = df.withColumn(\"text_length\", size(split(\"clean_text\", \" \")))\n",
        "df.select(\"clean_text\", \"text_length\").show(truncate=False)"
      ],
      "metadata": {
        "colab": {
          "base_uri": "https://localhost:8080/"
        },
        "id": "Jovtz0RjAisZ",
        "outputId": "c601acba-9296-405f-a939-87e487f0636a"
      },
      "execution_count": 10,
      "outputs": [
        {
          "output_type": "stream",
          "name": "stdout",
          "text": [
            "+---------------------------------------------+-----------+\n",
            "|clean_text                                   |text_length|\n",
            "+---------------------------------------------+-----------+\n",
            "|can you help me return this product          |7          |\n",
            "|the charger isnt functioning properly        |5          |\n",
            "|this isnt what i expected i want to return it|10         |\n",
            "|how do i send this back                      |6          |\n",
            "|i appreciate your help                       |4          |\n",
            "|the screen was cracked when i opened the box |9          |\n",
            "|i need to cancel my order                    |6          |\n",
            "|i need a refund for my purchase              |7          |\n",
            "|how do i send this back                      |6          |\n",
            "|this isnt what i expected i want to return it|10         |\n",
            "|i need to talk to support                    |6          |\n",
            "|thanks a lot                                 |3          |\n",
            "|i ordered 3 days ago and its still not here  |10         |\n",
            "|hi can you tell me where my order is         |9          |\n",
            "|thanks a lot                                 |3          |\n",
            "|hey can someone assist me                    |5          |\n",
            "|when will my package arrive                  |5          |\n",
            "|the charger isnt functioning properly        |5          |\n",
            "|hello i need some help                       |5          |\n",
            "|i mistakenly placed an order cancel it       |7          |\n",
            "+---------------------------------------------+-----------+\n",
            "only showing top 20 rows\n",
            "\n"
          ]
        }
      ]
    },
    {
      "cell_type": "code",
      "source": [
        "df_filtered = df.filter(df[\"text_length\"] >= 3)"
      ],
      "metadata": {
        "id": "zmU3WeKMF8Uz"
      },
      "execution_count": 11,
      "outputs": []
    },
    {
      "cell_type": "code",
      "source": [
        "#Group intent and associated sentiment\n",
        "intent_sentiment_df = df_filtered.groupBy(\"intent\").agg(collect_set(\"sentiment\").alias(\"associated_sentiments\"))\n",
        "intent_sentiment_pd = intent_sentiment_df.toPandas()\n",
        "\n",
        "print(intent_sentiment_pd)"
      ],
      "metadata": {
        "colab": {
          "base_uri": "https://localhost:8080/"
        },
        "id": "GCGaQE2wVBuM",
        "outputId": "0dcc43fd-04b0-4ba6-834e-7d3b95b24caa"
      },
      "execution_count": 12,
      "outputs": [
        {
          "output_type": "stream",
          "name": "stdout",
          "text": [
            "           intent associated_sentiments\n",
            "0  return_request            [negative]\n",
            "1    order_status             [neutral]\n",
            "2        greeting             [neutral]\n",
            "3    cancel_order            [negative]\n",
            "4   product_issue            [negative]\n",
            "5       thank_you            [positive]\n"
          ]
        }
      ]
    },
    {
      "cell_type": "code",
      "source": [
        "from pyspark.sql.functions import desc\n",
        "\n",
        "intent_counts = df_filtered.groupBy(\"intent\").count().orderBy(desc(\"count\"))\n",
        "intent_counts.show()"
      ],
      "metadata": {
        "colab": {
          "base_uri": "https://localhost:8080/"
        },
        "id": "OfCJjgDDApC-",
        "outputId": "8c40181a-b1ea-488a-9669-dbf252839f23"
      },
      "execution_count": 13,
      "outputs": [
        {
          "output_type": "stream",
          "name": "stdout",
          "text": [
            "+--------------+-----+\n",
            "|        intent|count|\n",
            "+--------------+-----+\n",
            "|  cancel_order|   58|\n",
            "| product_issue|   56|\n",
            "|return_request|   52|\n",
            "|     thank_you|   45|\n",
            "|  order_status|   43|\n",
            "|      greeting|   39|\n",
            "+--------------+-----+\n",
            "\n"
          ]
        }
      ]
    },
    {
      "cell_type": "code",
      "source": [
        "sentiment_counts = df_filtered.groupBy(\"sentiment\").count().orderBy(desc(\"count\"))\n",
        "sentiment_counts.show()"
      ],
      "metadata": {
        "colab": {
          "base_uri": "https://localhost:8080/"
        },
        "id": "JvraeNblGsSt",
        "outputId": "ccdf69d9-0d60-4fac-ba3d-848e7ff42eef"
      },
      "execution_count": 14,
      "outputs": [
        {
          "output_type": "stream",
          "name": "stdout",
          "text": [
            "+---------+-----+\n",
            "|sentiment|count|\n",
            "+---------+-----+\n",
            "| negative|  166|\n",
            "|  neutral|   82|\n",
            "| positive|   45|\n",
            "+---------+-----+\n",
            "\n"
          ]
        }
      ]
    },
    {
      "cell_type": "code",
      "source": [
        "import matplotlib.pyplot as plt\n",
        "plt.figure(figsize=(14, 5))\n",
        "intent_pd = intent_counts.toPandas()\n",
        "plt.subplot(1, 2, 1)\n",
        "plt.bar(intent_pd[\"intent\"], intent_pd[\"count\"], color='lightgreen')\n",
        "plt.title(\"Intent Distribution\")\n",
        "plt.xlabel(\"Intent\")\n",
        "plt.ylabel(\"Count\")\n",
        "plt.xticks(rotation=45)\n",
        "sentiment_pd = sentiment_counts.toPandas()\n",
        "plt.subplot(1, 2, 2)\n",
        "plt.bar(sentiment_pd[\"sentiment\"], sentiment_pd[\"count\"], color='skyblue')\n",
        "plt.title(\"Sentiment Distribution\")\n",
        "plt.xlabel(\"Sentiment\")\n",
        "plt.ylabel(\"Count\")\n",
        "plt.tight_layout()\n",
        "plt.show()"
      ],
      "metadata": {
        "colab": {
          "base_uri": "https://localhost:8080/",
          "height": 407
        },
        "id": "bQ26t0RbGv0W",
        "outputId": "71c5dc49-4ef8-4b96-ca18-024e8ca0b385"
      },
      "execution_count": 15,
      "outputs": [
        {
          "output_type": "display_data",
          "data": {
            "text/plain": [
              "<Figure size 1400x500 with 2 Axes>"
            ],
            "image/png": "[encoded data removed]"
          },
          "metadata": {}
        }
      ]
    },
    {
      "cell_type": "code",
      "source": [
        "pandas_df = df.select(\"clean_text\", \"intent\",\"sentiment\").toPandas()"
      ],
      "metadata": {
        "id": "KDrdO00bOWt1"
      },
      "execution_count": 16,
      "outputs": []
    },
    {
      "cell_type": "code",
      "source": [
        "from tensorflow.keras.preprocessing.text import Tokenizer\n",
        "from tensorflow.keras.preprocessing.sequence import pad_sequences\n",
        "\n",
        "tokenizer = Tokenizer(oov_token=\"unknown\")\n",
        "tokenizer.fit_on_texts(pandas_df[\"clean_text\"])\n",
        "\n",
        "sequences = tokenizer.texts_to_sequences(pandas_df[\"clean_text\"])\n",
        "padded = pad_sequences(sequences, padding='post')"
      ],
      "metadata": {
        "id": "l_-1jZtijheh"
      },
      "execution_count": 17,
      "outputs": []
    },
    {
      "cell_type": "code",
      "source": [
        "from sklearn.preprocessing import LabelEncoder\n",
        "\n",
        "label_encoder = LabelEncoder()\n",
        "intent_labels = label_encoder.fit_transform(pandas_df[\"intent\"])"
      ],
      "metadata": {
        "id": "_HTmcY4Zules"
      },
      "execution_count": 18,
      "outputs": []
    },
    {
      "cell_type": "code",
      "source": [
        "sentiment_encoder = LabelEncoder()\n",
        "sentiment_labels = sentiment_encoder.fit_transform(pandas_df[\"sentiment\"])"
      ],
      "metadata": {
        "id": "4uHGGIgO3MJe"
      },
      "execution_count": 19,
      "outputs": []
    },
    {
      "cell_type": "code",
      "source": [
        "from sklearn.model_selection import train_test_split\n",
        "\n",
        "X_train, X_test, y_intent_train, y_intent_test, y_sentiment_train, y_sentiment_test = train_test_split(padded, intent_labels, sentiment_labels, test_size=0.2, random_state=42)"
      ],
      "metadata": {
        "id": "P9AtipFS3NWT"
      },
      "execution_count": 20,
      "outputs": []
    },
    {
      "cell_type": "code",
      "source": [
        "from tensorflow.keras.models import Model\n",
        "from tensorflow.keras.layers import Input, Embedding, LSTM, Dense,Bidirectional"
      ],
      "metadata": {
        "id": "iOfzNhfUMofj"
      },
      "execution_count": 21,
      "outputs": []
    },
    {
      "cell_type": "code",
      "source": [
        "input_layer = Input(shape=(padded.shape[1],))\n",
        "x = Embedding(input_dim=len(tokenizer.word_index) + 1, output_dim=64)(input_layer)\n",
        "x = Bidirectional(LSTM(64))(x)\n",
        "intent_output = Dense(len(label_encoder.classes_), activation='softmax', name='intent_output')(x)\n",
        "sentiment_output = Dense(len(sentiment_encoder.classes_), activation='softmax', name='sentiment_output')(x)\n",
        "model = Model(inputs=input_layer, outputs=[intent_output, sentiment_output])\n",
        "model.compile(\n",
        "    optimizer='adam',\n",
        "    loss={\n",
        "        'intent_output': 'sparse_categorical_crossentropy',\n",
        "        'sentiment_output': 'sparse_categorical_crossentropy'\n",
        "    },\n",
        "    metrics={\n",
        "        'intent_output': 'accuracy',\n",
        "        'sentiment_output': 'accuracy'\n",
        "    }\n",
        ")\n",
        "\n",
        "model.summary()"
      ],
      "metadata": {
        "colab": {
          "base_uri": "https://localhost:8080/",
          "height": 369
        },
        "id": "XycPFcV6MrW1",
        "outputId": "b5a0bc77-97d2-4c25-fb54-4effae4edf50"
      },
      "execution_count": 22,
      "outputs": [
        {
          "output_type": "display_data",
          "data": {
            "text/plain": [
              "\u001b[1mModel: \"functional\"\u001b[0m\n"
            ],
            "text/html": [
              "<pre style=\"white-space:pre;overflow-x:auto;line-height:normal;font-family:Menlo,'DejaVu Sans Mono',consolas,'Courier New',monospace\"><span style=\"font-weight: bold\">Model: \"functional\"</span>\n",
              "</pre>\n"
            ]
          },
          "metadata": {}
        },
        {
          "output_type": "display_data",
          "data": {
            "text/plain": [
              "┏━━━━━━━━━━━━━━━━━━━━━┳━━━━━━━━━━━━━━━━━━━┳━━━━━━━━━━━━┳━━━━━━━━━━━━━━━━━━━┓\n",
              "┃\u001b[1m \u001b[0m\u001b[1mLayer (type)       \u001b[0m\u001b[1m \u001b[0m┃\u001b[1m \u001b[0m\u001b[1mOutput Shape     \u001b[0m\u001b[1m \u001b[0m┃\u001b[1m \u001b[0m\u001b[1m   Param #\u001b[0m\u001b[1m \u001b[0m┃\u001b[1m \u001b[0m\u001b[1mConnected to     \u001b[0m\u001b[1m \u001b[0m┃\n",
              "┡━━━━━━━━━━━━━━━━━━━━━╇━━━━━━━━━━━━━━━━━━━╇━━━━━━━━━━━━╇━━━━━━━━━━━━━━━━━━━┩\n",
              "│ input_layer         │ (\u001b[38;5;45mNone\u001b[0m, \u001b[38;5;34m10\u001b[0m)        │          \u001b[38;5;34m0\u001b[0m │ -                 │\n",
              "│ (\u001b[38;5;33mInputLayer\u001b[0m)        │                   │            │                   │\n",
              "├─────────────────────┼───────────────────┼────────────┼───────────────────┤\n",
              "│ embedding           │ (\u001b[38;5;45mNone\u001b[0m, \u001b[38;5;34m10\u001b[0m, \u001b[38;5;34m64\u001b[0m)    │      \u001b[38;5;34m6,720\u001b[0m │ input_layer[\u001b[38;5;34m0\u001b[0m][\u001b[38;5;34m0\u001b[0m] │\n",
              "│ (\u001b[38;5;33mEmbedding\u001b[0m)         │                   │            │                   │\n",
              "├─────────────────────┼───────────────────┼────────────┼───────────────────┤\n",
              "│ bidirectional       │ (\u001b[38;5;45mNone\u001b[0m, \u001b[38;5;34m128\u001b[0m)       │     \u001b[38;5;34m66,048\u001b[0m │ embedding[\u001b[38;5;34m0\u001b[0m][\u001b[38;5;34m0\u001b[0m]   │\n",
              "│ (\u001b[38;5;33mBidirectional\u001b[0m)     │                   │            │                   │\n",
              "├─────────────────────┼───────────────────┼────────────┼───────────────────┤\n",
              "│ intent_output       │ (\u001b[38;5;45mNone\u001b[0m, \u001b[38;5;34m6\u001b[0m)         │        \u001b[38;5;34m774\u001b[0m │ bidirectional[\u001b[38;5;34m0\u001b[0m]… │\n",
              "│ (\u001b[38;5;33mDense\u001b[0m)             │                   │            │                   │\n",
              "├─────────────────────┼───────────────────┼────────────┼───────────────────┤\n",
              "│ sentiment_output    │ (\u001b[38;5;45mNone\u001b[0m, \u001b[38;5;34m3\u001b[0m)         │        \u001b[38;5;34m387\u001b[0m │ bidirectional[\u001b[38;5;34m0\u001b[0m]… │\n",
              "│ (\u001b[38;5;33mDense\u001b[0m)             │                   │            │                   │\n",
              "└─────────────────────┴───────────────────┴────────────┴───────────────────┘\n"
            ],
            "text/html": [
              "<pre style=\"white-space:pre;overflow-x:auto;line-height:normal;font-family:Menlo,'DejaVu Sans Mono',consolas,'Courier New',monospace\">┏━━━━━━━━━━━━━━━━━━━━━┳━━━━━━━━━━━━━━━━━━━┳━━━━━━━━━━━━┳━━━━━━━━━━━━━━━━━━━┓\n",
              "┃<span style=\"font-weight: bold\"> Layer (type)        </span>┃<span style=\"font-weight: bold\"> Output Shape      </span>┃<span style=\"font-weight: bold\">    Param # </span>┃<span style=\"font-weight: bold\"> Connected to      </span>┃\n",
              "┡━━━━━━━━━━━━━━━━━━━━━╇━━━━━━━━━━━━━━━━━━━╇━━━━━━━━━━━━╇━━━━━━━━━━━━━━━━━━━┩\n",
              "│ input_layer         │ (<span style=\"color: #00d7ff; text-decoration-color: #00d7ff\">None</span>, <span style=\"color: #00af00; text-decoration-color: #00af00\">10</span>)        │          <span style=\"color: #00af00; text-decoration-color: #00af00\">0</span> │ -                 │\n",
              "│ (<span style=\"color: #0087ff; text-decoration-color: #0087ff\">InputLayer</span>)        │                   │            │                   │\n",
              "├─────────────────────┼───────────────────┼────────────┼───────────────────┤\n",
              "│ embedding           │ (<span style=\"color: #00d7ff; text-decoration-color: #00d7ff\">None</span>, <span style=\"color: #00af00; text-decoration-color: #00af00\">10</span>, <span style=\"color: #00af00; text-decoration-color: #00af00\">64</span>)    │      <span style=\"color: #00af00; text-decoration-color: #00af00\">6,720</span> │ input_layer[<span style=\"color: #00af00; text-decoration-color: #00af00\">0</span>][<span style=\"color: #00af00; text-decoration-color: #00af00\">0</span>] │\n",
              "│ (<span style=\"color: #0087ff; text-decoration-color: #0087ff\">Embedding</span>)         │                   │            │                   │\n",
              "├─────────────────────┼───────────────────┼────────────┼───────────────────┤\n",
              "│ bidirectional       │ (<span style=\"color: #00d7ff; text-decoration-color: #00d7ff\">None</span>, <span style=\"color: #00af00; text-decoration-color: #00af00\">128</span>)       │     <span style=\"color: #00af00; text-decoration-color: #00af00\">66,048</span> │ embedding[<span style=\"color: #00af00; text-decoration-color: #00af00\">0</span>][<span style=\"color: #00af00; text-decoration-color: #00af00\">0</span>]   │\n",
              "│ (<span style=\"color: #0087ff; text-decoration-color: #0087ff\">Bidirectional</span>)     │                   │            │                   │\n",
              "├─────────────────────┼───────────────────┼────────────┼───────────────────┤\n",
              "│ intent_output       │ (<span style=\"color: #00d7ff; text-decoration-color: #00d7ff\">None</span>, <span style=\"color: #00af00; text-decoration-color: #00af00\">6</span>)         │        <span style=\"color: #00af00; text-decoration-color: #00af00\">774</span> │ bidirectional[<span style=\"color: #00af00; text-decoration-color: #00af00\">0</span>]… │\n",
              "│ (<span style=\"color: #0087ff; text-decoration-color: #0087ff\">Dense</span>)             │                   │            │                   │\n",
              "├─────────────────────┼───────────────────┼────────────┼───────────────────┤\n",
              "│ sentiment_output    │ (<span style=\"color: #00d7ff; text-decoration-color: #00d7ff\">None</span>, <span style=\"color: #00af00; text-decoration-color: #00af00\">3</span>)         │        <span style=\"color: #00af00; text-decoration-color: #00af00\">387</span> │ bidirectional[<span style=\"color: #00af00; text-decoration-color: #00af00\">0</span>]… │\n",
              "│ (<span style=\"color: #0087ff; text-decoration-color: #0087ff\">Dense</span>)             │                   │            │                   │\n",
              "└─────────────────────┴───────────────────┴────────────┴───────────────────┘\n",
              "</pre>\n"
            ]
          },
          "metadata": {}
        },
        {
          "output_type": "display_data",
          "data": {
            "text/plain": [
              "\u001b[1m Total params: \u001b[0m\u001b[38;5;34m73,929\u001b[0m (288.79 KB)\n"
            ],
            "text/html": [
              "<pre style=\"white-space:pre;overflow-x:auto;line-height:normal;font-family:Menlo,'DejaVu Sans Mono',consolas,'Courier New',monospace\"><span style=\"font-weight: bold\"> Total params: </span><span style=\"color: #00af00; text-decoration-color: #00af00\">73,929</span> (288.79 KB)\n",
              "</pre>\n"
            ]
          },
          "metadata": {}
        },
        {
          "output_type": "display_data",
          "data": {
            "text/plain": [
              "\u001b[1m Trainable params: \u001b[0m\u001b[38;5;34m73,929\u001b[0m (288.79 KB)\n"
            ],
            "text/html": [
              "<pre style=\"white-space:pre;overflow-x:auto;line-height:normal;font-family:Menlo,'DejaVu Sans Mono',consolas,'Courier New',monospace\"><span style=\"font-weight: bold\"> Trainable params: </span><span style=\"color: #00af00; text-decoration-color: #00af00\">73,929</span> (288.79 KB)\n",
              "</pre>\n"
            ]
          },
          "metadata": {}
        },
        {
          "output_type": "display_data",
          "data": {
            "text/plain": [
              "\u001b[1m Non-trainable params: \u001b[0m\u001b[38;5;34m0\u001b[0m (0.00 B)\n"
            ],
            "text/html": [
              "<pre style=\"white-space:pre;overflow-x:auto;line-height:normal;font-family:Menlo,'DejaVu Sans Mono',consolas,'Courier New',monospace\"><span style=\"font-weight: bold\"> Non-trainable params: </span><span style=\"color: #00af00; text-decoration-color: #00af00\">0</span> (0.00 B)\n",
              "</pre>\n"
            ]
          },
          "metadata": {}
        }
      ]
    },
    {
      "cell_type": "code",
      "source": [
        "history = model.fit(\n",
        "    X_train,\n",
        "    [y_intent_train, y_sentiment_train],\n",
        "    validation_split=0.2,\n",
        "    epochs=10,\n",
        "    batch_size=32\n",
        ")"
      ],
      "metadata": {
        "colab": {
          "base_uri": "https://localhost:8080/"
        },
        "id": "dH1t-qgjMrIy",
        "outputId": "5854ebae-ffac-497b-fcc8-ff99b33ce5fd"
      },
      "execution_count": 23,
      "outputs": [
        {
          "output_type": "stream",
          "name": "stdout",
          "text": [
            "Epoch 1/10\n",
            "\u001b[1m6/6\u001b[0m \u001b[32m━━━━━━━━━━━━━━━━━━━━\u001b[0m\u001b[37m\u001b[0m \u001b[1m6s\u001b[0m 178ms/step - intent_output_accuracy: 0.1522 - intent_output_loss: 1.7875 - loss: 2.8724 - sentiment_output_accuracy: 0.4732 - sentiment_output_loss: 1.0849 - val_intent_output_accuracy: 0.2917 - val_intent_output_loss: 1.7670 - val_loss: 2.8097 - val_sentiment_output_accuracy: 0.5625 - val_sentiment_output_loss: 1.0430\n",
            "Epoch 2/10\n",
            "\u001b[1m6/6\u001b[0m \u001b[32m━━━━━━━━━━━━━━━━━━━━\u001b[0m\u001b[37m\u001b[0m \u001b[1m0s\u001b[0m 29ms/step - intent_output_accuracy: 0.2952 - intent_output_loss: 1.7568 - loss: 2.7937 - sentiment_output_accuracy: 0.5349 - sentiment_output_loss: 1.0369 - val_intent_output_accuracy: 0.3333 - val_intent_output_loss: 1.7342 - val_loss: 2.7089 - val_sentiment_output_accuracy: 0.5625 - val_sentiment_output_loss: 0.9796\n",
            "Epoch 3/10\n",
            "\u001b[1m6/6\u001b[0m \u001b[32m━━━━━━━━━━━━━━━━━━━━\u001b[0m\u001b[37m\u001b[0m \u001b[1m0s\u001b[0m 35ms/step - intent_output_accuracy: 0.3514 - intent_output_loss: 1.7158 - loss: 2.6917 - sentiment_output_accuracy: 0.5269 - sentiment_output_loss: 0.9759 - val_intent_output_accuracy: 0.3333 - val_intent_output_loss: 1.6772 - val_loss: 2.5468 - val_sentiment_output_accuracy: 0.5625 - val_sentiment_output_loss: 0.8796\n",
            "Epoch 4/10\n",
            "\u001b[1m6/6\u001b[0m \u001b[32m━━━━━━━━━━━━━━━━━━━━\u001b[0m\u001b[37m\u001b[0m \u001b[1m0s\u001b[0m 28ms/step - intent_output_accuracy: 0.3310 - intent_output_loss: 1.6520 - loss: 2.5296 - sentiment_output_accuracy: 0.5487 - sentiment_output_loss: 0.8776 - val_intent_output_accuracy: 0.6458 - val_intent_output_loss: 1.5596 - val_loss: 2.2414 - val_sentiment_output_accuracy: 0.6875 - val_sentiment_output_loss: 0.6966\n",
            "Epoch 5/10\n",
            "\u001b[1m6/6\u001b[0m \u001b[32m━━━━━━━━━━━━━━━━━━━━\u001b[0m\u001b[37m\u001b[0m \u001b[1m0s\u001b[0m 29ms/step - intent_output_accuracy: 0.5065 - intent_output_loss: 1.5222 - loss: 2.2274 - sentiment_output_accuracy: 0.6647 - sentiment_output_loss: 0.7053 - val_intent_output_accuracy: 0.5833 - val_intent_output_loss: 1.3231 - val_loss: 1.7573 - val_sentiment_output_accuracy: 0.7083 - val_sentiment_output_loss: 0.4524\n",
            "Epoch 6/10\n",
            "\u001b[1m6/6\u001b[0m \u001b[32m━━━━━━━━━━━━━━━━━━━━\u001b[0m\u001b[37m\u001b[0m \u001b[1m0s\u001b[0m 29ms/step - intent_output_accuracy: 0.5614 - intent_output_loss: 1.2658 - loss: 1.7543 - sentiment_output_accuracy: 0.7412 - sentiment_output_loss: 0.4885 - val_intent_output_accuracy: 0.4583 - val_intent_output_loss: 1.0939 - val_loss: 1.3964 - val_sentiment_output_accuracy: 0.7708 - val_sentiment_output_loss: 0.3191\n",
            "Epoch 7/10\n",
            "\u001b[1m6/6\u001b[0m \u001b[32m━━━━━━━━━━━━━━━━━━━━\u001b[0m\u001b[37m\u001b[0m \u001b[1m0s\u001b[0m 34ms/step - intent_output_accuracy: 0.4891 - intent_output_loss: 1.0670 - loss: 1.4027 - sentiment_output_accuracy: 0.7920 - sentiment_output_loss: 0.3357 - val_intent_output_accuracy: 0.7292 - val_intent_output_loss: 0.9010 - val_loss: 1.1302 - val_sentiment_output_accuracy: 0.8750 - val_sentiment_output_loss: 0.2492\n",
            "Epoch 8/10\n",
            "\u001b[1m6/6\u001b[0m \u001b[32m━━━━━━━━━━━━━━━━━━━━\u001b[0m\u001b[37m\u001b[0m \u001b[1m0s\u001b[0m 28ms/step - intent_output_accuracy: 0.6784 - intent_output_loss: 0.8629 - loss: 1.1059 - sentiment_output_accuracy: 0.9470 - sentiment_output_loss: 0.2430 - val_intent_output_accuracy: 0.8125 - val_intent_output_loss: 0.7344 - val_loss: 0.9129 - val_sentiment_output_accuracy: 1.0000 - val_sentiment_output_loss: 0.1996\n",
            "Epoch 9/10\n",
            "\u001b[1m6/6\u001b[0m \u001b[32m━━━━━━━━━━━━━━━━━━━━\u001b[0m\u001b[37m\u001b[0m \u001b[1m0s\u001b[0m 28ms/step - intent_output_accuracy: 0.8180 - intent_output_loss: 0.6728 - loss: 0.8391 - sentiment_output_accuracy: 0.9903 - sentiment_output_loss: 0.1663 - val_intent_output_accuracy: 0.8333 - val_intent_output_loss: 0.5615 - val_loss: 0.6888 - val_sentiment_output_accuracy: 0.9583 - val_sentiment_output_loss: 0.1534\n",
            "Epoch 10/10\n",
            "\u001b[1m6/6\u001b[0m \u001b[32m━━━━━━━━━━━━━━━━━━━━\u001b[0m\u001b[37m\u001b[0m \u001b[1m0s\u001b[0m 28ms/step - intent_output_accuracy: 0.9263 - intent_output_loss: 0.4781 - loss: 0.6105 - sentiment_output_accuracy: 0.9761 - sentiment_output_loss: 0.1324 - val_intent_output_accuracy: 1.0000 - val_intent_output_loss: 0.3786 - val_loss: 0.4622 - val_sentiment_output_accuracy: 1.0000 - val_sentiment_output_loss: 0.1055\n"
          ]
        }
      ]
    },
    {
      "cell_type": "code",
      "source": [
        "model.evaluate(X_test, [y_intent_test, y_sentiment_test])"
      ],
      "metadata": {
        "colab": {
          "base_uri": "https://localhost:8080/"
        },
        "id": "SmQkjM4tRWAM",
        "outputId": "9f8a702d-47e2-4396-9fce-e4a21f323070"
      },
      "execution_count": 24,
      "outputs": [
        {
          "output_type": "stream",
          "name": "stdout",
          "text": [
            "\u001b[1m2/2\u001b[0m \u001b[32m━━━━━━━━━━━━━━━━━━━━\u001b[0m\u001b[37m\u001b[0m \u001b[1m0s\u001b[0m 30ms/step - intent_output_accuracy: 1.0000 - intent_output_loss: 0.3561 - loss: 0.4139 - sentiment_output_accuracy: 1.0000 - sentiment_output_loss: 0.0612\n"
          ]
        },
        {
          "output_type": "execute_result",
          "data": {
            "text/plain": [
              "[0.4379032254219055, 0.3722001910209656, 0.07085061073303223, 1.0, 1.0]"
            ]
          },
          "metadata": {},
          "execution_count": 24
        }
      ]
    },
    {
      "cell_type": "markdown",
      "source": [
        "##Classify Responses"
      ],
      "metadata": {
        "id": "zD1UOig580gb"
      }
    },
    {
      "cell_type": "code",
      "source": [
        "def classify(message):\n",
        "    seq = tokenizer.texts_to_sequences([message])\n",
        "    pad = pad_sequences(seq, maxlen=padded.shape[1], padding='post')\n",
        "    intent_pred, sentiment_pred = model.predict(pad)\n",
        "    intent_label = label_encoder.inverse_transform([intent_pred.argmax()])\n",
        "    sentiment_label = sentiment_encoder.inverse_transform([sentiment_pred.argmax()])\n",
        "    return intent_label[0], sentiment_label[0]"
      ],
      "metadata": {
        "id": "tjsgPu0xTgF3"
      },
      "execution_count": 25,
      "outputs": []
    },
    {
      "cell_type": "code",
      "source": [
        "test_messages = [\n",
        "    \"I want to cancel my order please.\",\n",
        "    \"Thanks a lot for your help!\",\n",
        "    \"When is my package arriving?\",\n",
        "    \"The screen is cracked.\",\n",
        "    \"hello\",\n",
        "    \"I need help\",\n",
        "    \"how to fix this?\",\n",
        "    \"Return this product immediately!\"\n",
        "]\n",
        "\n",
        "for msg in test_messages:\n",
        "    intent, sentiment = classify(msg)\n",
        "    print(f\"Message: {msg}\\n→ Intent: {intent}, Sentiment: {sentiment}\\n\")\n"
      ],
      "metadata": {
        "colab": {
          "base_uri": "https://localhost:8080/"
        },
        "id": "ASepdGU5o4oY",
        "outputId": "1469429c-c420-4113-d33d-f49c67c08fad"
      },
      "execution_count": 26,
      "outputs": [
        {
          "output_type": "stream",
          "name": "stdout",
          "text": [
            "\u001b[1m1/1\u001b[0m \u001b[32m━━━━━━━━━━━━━━━━━━━━\u001b[0m\u001b[37m\u001b[0m \u001b[1m0s\u001b[0m 383ms/step\n",
            "Message: I want to cancel my order please.\n",
            "→ Intent: cancel_order, Sentiment: negative\n",
            "\n",
            "\u001b[1m1/1\u001b[0m \u001b[32m━━━━━━━━━━━━━━━━━━━━\u001b[0m\u001b[37m\u001b[0m \u001b[1m0s\u001b[0m 49ms/step\n",
            "Message: Thanks a lot for your help!\n",
            "→ Intent: thank_you, Sentiment: positive\n",
            "\n",
            "\u001b[1m1/1\u001b[0m \u001b[32m━━━━━━━━━━━━━━━━━━━━\u001b[0m\u001b[37m\u001b[0m \u001b[1m0s\u001b[0m 39ms/step\n",
            "Message: When is my package arriving?\n",
            "→ Intent: order_status, Sentiment: neutral\n",
            "\n",
            "\u001b[1m1/1\u001b[0m \u001b[32m━━━━━━━━━━━━━━━━━━━━\u001b[0m\u001b[37m\u001b[0m \u001b[1m0s\u001b[0m 41ms/step\n",
            "Message: The screen is cracked.\n",
            "→ Intent: thank_you, Sentiment: positive\n",
            "\n",
            "\u001b[1m1/1\u001b[0m \u001b[32m━━━━━━━━━━━━━━━━━━━━\u001b[0m\u001b[37m\u001b[0m \u001b[1m0s\u001b[0m 54ms/step\n",
            "Message: hello\n",
            "→ Intent: greeting, Sentiment: positive\n",
            "\n",
            "\u001b[1m1/1\u001b[0m \u001b[32m━━━━━━━━━━━━━━━━━━━━\u001b[0m\u001b[37m\u001b[0m \u001b[1m0s\u001b[0m 38ms/step\n",
            "Message: I need help\n",
            "→ Intent: thank_you, Sentiment: neutral\n",
            "\n",
            "\u001b[1m1/1\u001b[0m \u001b[32m━━━━━━━━━━━━━━━━━━━━\u001b[0m\u001b[37m\u001b[0m \u001b[1m0s\u001b[0m 39ms/step\n",
            "Message: how to fix this?\n",
            "→ Intent: greeting, Sentiment: negative\n",
            "\n",
            "\u001b[1m1/1\u001b[0m \u001b[32m━━━━━━━━━━━━━━━━━━━━\u001b[0m\u001b[37m\u001b[0m \u001b[1m0s\u001b[0m 44ms/step\n",
            "Message: Return this product immediately!\n",
            "→ Intent: product_issue, Sentiment: negative\n",
            "\n"
          ]
        }
      ]
    },
    {
      "cell_type": "code",
      "source": [
        "loss, intent_loss, sentiment_loss, intent_acc, sentiment_acc = model.evaluate(\n",
        "    X_test, [y_intent_test, y_sentiment_test], verbose=0\n",
        ")\n",
        "\n",
        "print(f\"Test Accuracy for Intent: {intent_acc:.2f}\")\n",
        "print(f\"Test Accuracy for Sentiment: {sentiment_acc:.2f}\")\n"
      ],
      "metadata": {
        "colab": {
          "base_uri": "https://localhost:8080/"
        },
        "id": "DqUhXaVdo4rw",
        "outputId": "a8480ab1-0744-48da-c231-7d566b7dbb63"
      },
      "execution_count": 27,
      "outputs": [
        {
          "output_type": "stream",
          "name": "stdout",
          "text": [
            "Test Accuracy for Intent: 1.00\n",
            "Test Accuracy for Sentiment: 1.00\n"
          ]
        }
      ]
    },
    {
      "cell_type": "markdown",
      "source": [
        "#Save responses in Firebase"
      ],
      "metadata": {
        "id": "bq9bvtGQbTzU"
      }
    },
    {
      "cell_type": "code",
      "source": [
        "#To save messages in firebase\n",
        "\n",
        "import uuid\n",
        "from datetime import datetime\n",
        "\n",
        "user_id = \"user9\" #default should be changed later\n",
        "\n",
        "def store_message(user_id, sender, message):\n",
        "\n",
        "  message_ref = db.collection(\"users\").document(user_id).collection(\"chat_history\").document(str(uuid.uuid4()))\n",
        "  message_ref.set({\n",
        "      \"sender\": sender,\n",
        "      \"message\": message,\n",
        "      \"timestamp\": datetime.utcnow()\n",
        "    })"
      ],
      "metadata": {
        "id": "Ivyd3mJIfyWh"
      },
      "execution_count": 34,
      "outputs": []
    },
    {
      "cell_type": "code",
      "source": [
        "import firebase_admin\n",
        "from firebase_admin import credentials, firestore"
      ],
      "metadata": {
        "id": "f_jWQLAYE5bC"
      },
      "execution_count": 29,
      "outputs": []
    },
    {
      "cell_type": "code",
      "source": [
        "# Load service account key\n",
        "cred = credentials.Certificate(\"/content/cloud-computing-project-cb32f-firebase-adminsdk-fbsvc-4e9abde912.json\")\n",
        "\n",
        "if not firebase_admin._apps:\n",
        "    firebase_admin.initialize_app(cred)\n",
        "    print(\"Firebase app initialized.\")\n",
        "else:\n",
        "    print(\"Firebase app already initialized.\")"
      ],
      "metadata": {
        "colab": {
          "base_uri": "https://localhost:8080/"
        },
        "id": "4h3huKgaba6d",
        "outputId": "fedb538d-755b-4c55-a4a8-cb2a6be0961f"
      },
      "execution_count": 30,
      "outputs": [
        {
          "output_type": "stream",
          "name": "stdout",
          "text": [
            "Firebase app initialized.\n"
          ]
        }
      ]
    },
    {
      "cell_type": "code",
      "source": [
        "# Initialize Firestore\n",
        "db = firestore.client()"
      ],
      "metadata": {
        "id": "Iw04k0BrfMgy"
      },
      "execution_count": 31,
      "outputs": []
    },
    {
      "cell_type": "markdown",
      "source": [
        "###Enhance Chatbot Response by Rule-based Approach"
      ],
      "metadata": {
        "id": "NX0P8qxzPEQO"
      }
    },
    {
      "cell_type": "code",
      "source": [
        "def generate_rule_based_response(predicted_sentiment, predicted_intent):\n",
        "  response = \"I'm sorry, I didn't understand that.\"\n",
        "\n",
        "  if predicted_sentiment == \"negative\":\n",
        "    if predicted_intent == \"request_return\":\n",
        "      response = \"Please wait a moment. You're redirected to a live agent to request a return for your product.\"\n",
        "    elif predicted_intent == \"cancel_order\":\n",
        "      response = \"Please wait a moment. You're redirected to a live agent to cancel your order.\"\n",
        "    elif predicted_intent == \"product_issue\":\n",
        "      response = \"Please wait a moment. You're redirected to a live agent to help with your product issue.\"\n",
        "  elif predicted_sentiment == \"neutral\":\n",
        "    if predicted_intent == \"greeting\":\n",
        "      response = \"Hello! How can I assist you today?\"\n",
        "    elif predicted_intent == \"order_status\":\n",
        "      response = \"Your order is ...\"\n",
        "  elif predicted_sentiment == \"positive\":\n",
        "    response = \"Thank you for your feedback!\"\n",
        "\n",
        "  return response\n",
        "\n",
        "def generate_rule_based_response_chatbot(user_input):\n",
        "\n",
        "    predicted_intent, predicted_sentiment = classify(user_input)\n",
        "\n",
        "    # Generate response based on predicted sentiment using rule-based approach\n",
        "    response = generate_rule_based_response(predicted_sentiment, predicted_intent)\n",
        "\n",
        "    return response\n",
        "\n",
        "def generate_pattern_response(user_input):\n",
        "  user_input = user_input.lower().strip()  # Normalize input\n",
        "\n",
        "  patterns = {\n",
        "      \"hello\": \"Hello! How can I assist you today?\",\n",
        "      \"help\": \"Sure, I'd be happy to help. What do you need assistance with?\",\n",
        "      \"bye\": \"Goodbye! If you have more questions in the future, feel free to ask.\",\n",
        "      \"are you\": \"I'm a chatbot, ready to assist you with what you need!\",\n",
        "      \"thank\": \"You're welcome! If you have any other questions, feel free to ask.\",\n",
        "      \"working hours\": \"We're available 24 hours for help!\",\n",
        "      \"ok\": \"Great! If you have any other questions, feel free to ask.\",\n",
        "      \"your name\": \"I'm a chatbot.\"\n",
        "  }\n",
        "\n",
        "  for pattern, response in patterns.items():\n",
        "    if pattern in user_input.lower():\n",
        "      return response\n",
        "\n",
        "  # If no pattern matches, use the rule-based response based on sentiment\n",
        "  return generate_rule_based_response_chatbot(user_input)"
      ],
      "metadata": {
        "id": "s-6iNML2DKwT"
      },
      "execution_count": 32,
      "outputs": []
    },
    {
      "cell_type": "code",
      "source": [
        "while True:\n",
        "    user_input = input(\"You: \")\n",
        "    store_message(user_id, \"user\", user_input)\n",
        "\n",
        "    if user_input.lower() == \"exit\":\n",
        "        print(\"Bot: Goodbye!\")\n",
        "        break\n",
        "    bot_response = generate_pattern_response(user_input)\n",
        "    print(\"Bot:\", bot_response)\n",
        "    store_message(user_id, \"bot\", bot_response)"
      ],
      "metadata": {
        "colab": {
          "base_uri": "https://localhost:8080/"
        },
        "id": "iZ08UQUXfe5t",
        "outputId": "78b33ff0-c28c-4463-d4d1-6ffe2ac5dc73"
      },
      "execution_count": 35,
      "outputs": [
        {
          "output_type": "stream",
          "name": "stdout",
          "text": [
            "You: hello\n",
            "Bot: Hello! How can I assist you today?\n",
            "You: exit\n",
            "Bot: Goodbye!\n"
          ]
        }
      ]
    },
    {
      "cell_type": "code",
      "source": [],
      "metadata": {
        "id": "3wJMSejSs0iZ"
      },
      "execution_count": null,
      "outputs": []
    }
  ]
}